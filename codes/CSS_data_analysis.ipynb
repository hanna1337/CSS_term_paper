{
 "cells": [
  {
   "cell_type": "markdown",
   "metadata": {},
   "source": [
    "# Seminar \"Computational Social Science\" - Data Analysis"
   ]
  },
  {
   "cell_type": "code",
   "execution_count": 27,
   "metadata": {},
   "outputs": [],
   "source": [
    "# import\n",
    "import pandas as pd\n",
    "import numpy as np\n",
    "import networkx as nx\n",
    "from networkx.algorithms import bipartite\n",
    "import matplotlib.pyplot as plt\n",
    "from scipy import stats\n",
    "import re\n",
    "import os\n",
    "\n",
    "# set working directory\n",
    "wd = 'D:/IMDb Daten/'\n",
    "os.chdir(wd)"
   ]
  },
  {
   "cell_type": "markdown",
   "metadata": {},
   "source": [
    "### Functions"
   ]
  },
  {
   "cell_type": "code",
   "execution_count": 28,
   "metadata": {},
   "outputs": [],
   "source": [
    "# import data from tsv format (separated by \\t) as pandas dataframe\n",
    "def import_tsv(data_path):\n",
    "    data_df = pd.read_csv(data_path, sep='\\t')\n",
    "    return data_df\n",
    "\n",
    "# save data as csv (but with \\t separator) to working directory (default) or path as given\n",
    "def save_csv(df, filename, path):\n",
    "    df.to_csv(path+filename+'.csv', sep='\\t', index=False)"
   ]
  },
  {
   "cell_type": "markdown",
   "metadata": {},
   "source": [
    "### Import data and prepare"
   ]
  },
  {
   "cell_type": "code",
   "execution_count": 29,
   "metadata": {},
   "outputs": [
    {
     "name": "stdout",
     "output_type": "stream",
     "text": [
      "4667\n",
      "2448\n"
     ]
    }
   ],
   "source": [
    "df_writers_producers = import_tsv(wd+'/df_writers_producers6.csv')\n",
    "\n",
    "# sets of all writers and producers\n",
    "writers = set(df_writers_producers.writer.tolist())\n",
    "producers = set(df_writers_producers.producer.tolist())\n",
    "\n",
    "# number of writers/producers\n",
    "print(len(writers))     # 4,667\n",
    "print(len(producers))   # 2,448"
   ]
  },
  {
   "cell_type": "code",
   "execution_count": 30,
   "metadata": {},
   "outputs": [],
   "source": [
    "# drop cases where gender is 'other'\n",
    "df_writers_producers['deleteOther'] = 0\n",
    "for i in df_writers_producers.index:\n",
    "    if df_writers_producers.loc[i,'gender_writer'] == 'other':\n",
    "        df_writers_producers.loc[i,'deleteOther'] = 1\n",
    "    if df_writers_producers.loc[i,'gender_producer'] == 'other':\n",
    "        df_writers_producers.loc[i,'deleteOther'] = 1\n",
    "\n",
    "df_writers_producers=df_writers_producers[df_writers_producers.deleteOther == 0]        \n"
   ]
  },
  {
   "cell_type": "code",
   "execution_count": 31,
   "metadata": {},
   "outputs": [
    {
     "name": "stdout",
     "output_type": "stream",
     "text": [
      "13304\n"
     ]
    }
   ],
   "source": [
    "print(len(df_writers_producers.index)) \n",
    "# number of collaborations: 13,304"
   ]
  },
  {
   "cell_type": "code",
   "execution_count": 32,
   "metadata": {},
   "outputs": [
    {
     "name": "stdout",
     "output_type": "stream",
     "text": [
      "4660\n",
      "2446\n"
     ]
    }
   ],
   "source": [
    "# sets of all writers and producers\n",
    "writers = set(df_writers_producers.writer.tolist())\n",
    "producers = set(df_writers_producers.producer.tolist())\n",
    "\n",
    "# number of writers/producers\n",
    "print(len(writers))     # 4,660\n",
    "print(len(producers))   # 2,446"
   ]
  },
  {
   "cell_type": "markdown",
   "metadata": {},
   "source": [
    "### Create graph"
   ]
  },
  {
   "cell_type": "code",
   "execution_count": 7,
   "metadata": {},
   "outputs": [],
   "source": [
    "# empty graph\n",
    "G=nx.Graph()"
   ]
  },
  {
   "cell_type": "code",
   "execution_count": 8,
   "metadata": {},
   "outputs": [],
   "source": [
    "# add nodes\n",
    "# mark different sets of nodes by setting attribute bipartite to 1 for writers,\n",
    "# and 0 for producers\n",
    "\n",
    "G.add_nodes_from(writers, bipartite=1)\n",
    "G.add_nodes_from(producers, bipartite=0)"
   ]
  },
  {
   "cell_type": "code",
   "execution_count": 9,
   "metadata": {},
   "outputs": [],
   "source": [
    "#  produce nested list: for each collaboration one list (writer, producer, weight)\n",
    "pairs = []\n",
    "for i in df_writers_producers.index:\n",
    "    temp_w=df_writers_producers.loc[i, 'writer']\n",
    "    temp_p= df_writers_producers.loc[i, 'producer']\n",
    "    temp_c = df_writers_producers.loc[i, 'coop']\n",
    "    pair=[temp_w, temp_p, temp_c]\n",
    "    pairs.append(pair)"
   ]
  },
  {
   "cell_type": "code",
   "execution_count": 10,
   "metadata": {},
   "outputs": [],
   "source": [
    "# add weighted edges from list\n",
    "G.add_weighted_edges_from(pairs)"
   ]
  },
  {
   "cell_type": "code",
   "execution_count": 11,
   "metadata": {},
   "outputs": [],
   "source": [
    "# add gender and name information to nodes\n",
    "\n",
    "# 1) load data with gender info\n",
    "df_name_info = import_tsv('df_name_info7.csv')\n",
    "\n",
    "# 2) make dicts with unique person identifier (nconst) as key and gender/name as values out of df\n",
    "dict_gender = pd.Series(df_name_info.gender.values,index=df_name_info.nconst).to_dict()\n",
    "dict_name = pd.Series(df_name_info.primaryName.values,index=df_name_info.nconst).to_dict()\n",
    "\n",
    "# 3) set attributes gender and name for each node\n",
    "nx.set_node_attributes(G, dict_gender, 'gender')\n",
    "nx.set_node_attributes(G, dict_name, 'name')"
   ]
  },
  {
   "cell_type": "code",
   "execution_count": 12,
   "metadata": {},
   "outputs": [],
   "source": [
    "# make containers / set top nodes and bottom nodes for further processing\n",
    "\n",
    "# 1) top nodes are producers\n",
    "top_nodes = {n for n, d in G.nodes(data=True) if d['bipartite']==0}\n",
    "\n",
    "# 2) bottom nodes are writers\n",
    "bottom_nodes = set(G) - top_nodes"
   ]
  },
  {
   "cell_type": "markdown",
   "metadata": {},
   "source": [
    "### Check graph properties"
   ]
  },
  {
   "cell_type": "code",
   "execution_count": 13,
   "metadata": {},
   "outputs": [
    {
     "name": "stdout",
     "output_type": "stream",
     "text": [
      "True\n",
      "True\n",
      "False\n"
     ]
    }
   ],
   "source": [
    "print(bipartite.is_bipartite(G))       # graph is bipartite\n",
    "print(nx.is_weighted(G))               # graph is weighted\n",
    "print(nx.is_connected(G))              # graph is not connected"
   ]
  },
  {
   "cell_type": "markdown",
   "metadata": {},
   "source": [
    "### Analyse components"
   ]
  },
  {
   "cell_type": "code",
   "execution_count": 14,
   "metadata": {},
   "outputs": [
    {
     "name": "stdout",
     "output_type": "stream",
     "text": [
      "441\n",
      "0.7521812552772306\n"
     ]
    }
   ],
   "source": [
    "Gcc = sorted(nx.connected_components(G), \n",
    "             key=len, reverse=True)\n",
    "print(len(Gcc))                              # 441 components\n",
    "print(len(Gcc[0])/len(G))                    # largest component makes up around 75 percent of nodes \n",
    "\n",
    "# subgraph from giant component\n",
    "G0 = G.subgraph(Gcc[0])\n",
    "\n",
    "# all individuals from giant component\n",
    "gc_all = list(Gcc[0])\n",
    "\n",
    "# lists of writers / producers in giant component\n",
    "gc_writers = []\n",
    "gc_producers = []\n",
    "for name in gc_all:\n",
    "    if name in writers:\n",
    "        gc_writers.append(name)\n",
    "        continue\n",
    "    if name in producers:\n",
    "        gc_producers.append(name)"
   ]
  },
  {
   "cell_type": "markdown",
   "metadata": {},
   "source": [
    "### Degree Distribution\n",
    "#### 1) Unweighted"
   ]
  },
  {
   "cell_type": "code",
   "execution_count": 15,
   "metadata": {},
   "outputs": [],
   "source": [
    "deg_prod, deg_writer = bipartite.degrees(G, bottom_nodes, weight=None)\n",
    "\n",
    "deg_prod = dict(deg_prod)\n",
    "deg_writer = dict(deg_writer)"
   ]
  },
  {
   "cell_type": "code",
   "execution_count": 18,
   "metadata": {},
   "outputs": [
    {
     "data": {
      "image/png": "[encoded data removed]",
      "text/plain": [
       "<Figure size 432x288 with 1 Axes>"
      ]
     },
     "metadata": {
      "needs_background": "light"
     },
     "output_type": "display_data"
    }
   ],
   "source": [
    "# degree distribution writer\n",
    "a=list(deg_writer.values())\n",
    "a = [int(x) for x in a]\n",
    "plt.hist(a, bins=range(min(a),max(a)))\n",
    "plt.show()"
   ]
  },
  {
   "cell_type": "markdown",
   "metadata": {},
   "source": [
    "#### 2) Weighted"
   ]
  },
  {
   "cell_type": "code",
   "execution_count": 25,
   "metadata": {},
   "outputs": [],
   "source": [
    "deg_prod_w, deg_writer_w = bipartite.degrees(G, bottom_nodes, weight='weight')\n",
    "\n",
    "deg_prod_w = dict(deg_prod_w)\n",
    "deg_writer_w = dict(deg_writer_w)"
   ]
  },
  {
   "cell_type": "code",
   "execution_count": 26,
   "metadata": {},
   "outputs": [
    {
     "data": {
      "image/png": "[encoded data removed]",
      "text/plain": [
       "<Figure size 432x288 with 1 Axes>"
      ]
     },
     "metadata": {
      "needs_background": "light"
     },
     "output_type": "display_data"
    }
   ],
   "source": [
    "# degree distribution writers (weighted)\n",
    "a=list(deg_writer_w.values())\n",
    "a = [int(x) for x in a]\n",
    "plt.hist(a, bins=range(min(a),max(a)))\n",
    "plt.show()"
   ]
  },
  {
   "cell_type": "markdown",
   "metadata": {},
   "source": [
    "### Visualization"
   ]
  },
  {
   "cell_type": "code",
   "execution_count": 15,
   "metadata": {},
   "outputs": [
    {
     "data": {
      "image/png": "[encoded data removed]",
      "text/plain": [
       "<Figure size 432x288 with 1 Axes>"
      ]
     },
     "metadata": {},
     "output_type": "display_data"
    }
   ],
   "source": [
    "# get positions\n",
    "pos = nx.drawing.layout.bipartite_layout(G, top_nodes, align='horizontal', scale=1, \n",
    "                                         center=None, aspect_ratio=1.3333333333333333)\n",
    "\n",
    "# create empty list for node colors\n",
    "node_color = []\n",
    "\n",
    "# for each node in the graph\n",
    "for node in G.nodes(data=True):\n",
    "    if 'female' in node[1]['gender']:\n",
    "        node_color.append('red')\n",
    "    elif 'male' in node[1]['gender']:\n",
    "        node_color.append('blue')\n",
    "\n",
    "# add color attribute to edges\n",
    "for (u, v) in G.edges():\n",
    "    if dict_gender[u] == 'male' and  dict_gender[v] == 'male':\n",
    "        G.add_edge(u,v, color=\"blue\")\n",
    "        continue\n",
    "    if dict_gender[u] == 'female' and  dict_gender[v] == 'female':\n",
    "        G.add_edge(u,v, color=\"red\")\n",
    "        continue\n",
    "    else:\n",
    "        G.add_edge(u,v, color='grey')\n",
    "\n",
    "# list edge_color for edges\n",
    "edge_color = []\n",
    "for (u, v, w) in G.edges(data=True):\n",
    "    color=w['color']\n",
    "    edge_color.append(color)\n",
    "\n",
    "# draw graph\n",
    "nx.draw_networkx(G, pos=pos, node_size=300, width=0.1, node_color=node_color, edge_color=edge_color)\n",
    "plt.show()"
   ]
  },
  {
   "cell_type": "markdown",
   "metadata": {},
   "source": [
    "### Description"
   ]
  },
  {
   "cell_type": "code",
   "execution_count": 30,
   "metadata": {},
   "outputs": [
    {
     "name": "stdout",
     "output_type": "stream",
     "text": [
      "1 4660\n",
      "2 2446\n"
     ]
    }
   ],
   "source": [
    "# number of writers and producers\n",
    "\n",
    "print(1, len(writers))\n",
    "print(2, len(producers))"
   ]
  },
  {
   "cell_type": "code",
   "execution_count": 36,
   "metadata": {},
   "outputs": [
    {
     "name": "stdout",
     "output_type": "stream",
     "text": [
      "1 1580\n",
      "2 3080\n",
      "3 887\n",
      "4 1559\n"
     ]
    }
   ],
   "source": [
    "# female writers\n",
    "writers_f=[]\n",
    "for name in writers:\n",
    "    if dict_gender[name] == \"female\":\n",
    "        writers_f.append(name)\n",
    "print(1, len(writers_f))\n",
    "\n",
    "# male writers\n",
    "writers_m=[]\n",
    "for name in writers:\n",
    "    if dict_gender[name] == \"male\":\n",
    "        writers_m.append(name)\n",
    "print(2, len(writers_m))\n",
    "\n",
    "# female producers\n",
    "producers_f=[]\n",
    "for name in producers:\n",
    "    if dict_gender[name] == \"female\":\n",
    "        producers_f.append(name)\n",
    "print(3, len(producers_f))\n",
    "\n",
    "\n",
    "# male producers\n",
    "producers_m=[]\n",
    "for name in producers:\n",
    "    if dict_gender[name] == \"male\":\n",
    "        producers_m.append(name)\n",
    "print(4, len(producers_m))"
   ]
  },
  {
   "cell_type": "markdown",
   "metadata": {},
   "source": [
    "### Analysis of Centrality"
   ]
  },
  {
   "cell_type": "code",
   "execution_count": 16,
   "metadata": {},
   "outputs": [],
   "source": [
    "# compute centrality measures (from giant component) --> takes some minutes\n",
    "cc = bipartite.closeness_centrality(G0, gc_writers)\n",
    "bc = bipartite.betweenness_centrality(G0, gc_writers)\n",
    "dc = bipartite.degree_centrality(G0, gc_writers)"
   ]
  },
  {
   "cell_type": "code",
   "execution_count": 17,
   "metadata": {},
   "outputs": [],
   "source": [
    "# drop producers from centrality dicts\n",
    "for i in range(len(gc_producers)):\n",
    "    key = gc_producers[i]\n",
    "    del cc[key]\n",
    "    del bc[key]\n",
    "    del dc[key]\n",
    "\n",
    "# put centrality measure values in new dataframe\n",
    "df_centralities = pd.DataFrame({'cc':pd.Series(cc),'bc':pd.Series(bc),'dc':pd.Series(dc)})\n",
    "df_centralities.reset_index(level=0, inplace=True)\n",
    "df_centralities.columns = ['nconst', 'closeness', 'betweenness', 'degree']\n",
    "\n",
    "# add name and gender info\n",
    "df_centralities = pd.merge(df_centralities, df_name_info[['nconst','primaryName','gender']], how='left', on='nconst')"
   ]
  },
  {
   "cell_type": "code",
   "execution_count": 18,
   "metadata": {},
   "outputs": [],
   "source": [
    "# save\n",
    "save_csv(df_centralities, 'df_centralities1', path=wd)  "
   ]
  },
  {
   "cell_type": "code",
   "execution_count": 19,
   "metadata": {},
   "outputs": [
    {
     "name": "stdout",
     "output_type": "stream",
     "text": [
      "         count      mean       std       min       25%       50%       75%  \\\n",
      "gender                                                                       \n",
      "female  1275.0  0.263316  0.043701  0.126744  0.237394  0.267217  0.296269   \n",
      "male    2473.0  0.267163  0.040884  0.126744  0.241211  0.270461  0.297393   \n",
      "\n",
      "             max  \n",
      "gender            \n",
      "female  0.357927  \n",
      "male    0.365909  \n",
      "         count      mean       std  min  25%       50%       75%       max\n",
      "gender                                                                    \n",
      "female  1275.0  0.000666  0.001526  0.0  0.0  0.000035  0.000567  0.016236\n",
      "male    2473.0  0.000694  0.001673  0.0  0.0  0.000053  0.000620  0.032628\n",
      "         count      mean       std       min       25%       50%       75%  \\\n",
      "gender                                                                       \n",
      "female  1275.0  0.001875  0.001665  0.000626  0.000626  0.001252  0.002505   \n",
      "male    2473.0  0.002013  0.001841  0.000626  0.000626  0.001252  0.002505   \n",
      "\n",
      "             max  \n",
      "gender            \n",
      "female  0.013776  \n",
      "male    0.021290  \n"
     ]
    }
   ],
   "source": [
    "# describe\n",
    "\n",
    "print(df_centralities.groupby(\"gender\")['closeness'].describe())\n",
    "# female mean: 0.263316\n",
    "# male mean: 0.267163\n",
    "\n",
    "print(df_centralities.groupby(\"gender\")['betweenness'].describe())\n",
    "# female mean: 0.000666\n",
    "# male mean: 0.000694\n",
    "\n",
    "print(df_centralities.groupby(\"gender\")['degree'].describe())\n",
    "# female mean: 0.001875\n",
    "# male mean: 0.002013"
   ]
  },
  {
   "cell_type": "code",
   "execution_count": 20,
   "metadata": {},
   "outputs": [
    {
     "name": "stdout",
     "output_type": "stream",
     "text": [
      "closeness:  LeveneResult(statistic=6.21080255666399, pvalue=0.01274020832129527)\n",
      "betweenness:  LeveneResult(statistic=0.23305597257811328, pvalue=0.6292952808716595)\n",
      "degree:  LeveneResult(statistic=5.7731179613672134, pvalue=0.01632148901170619)\n"
     ]
    }
   ],
   "source": [
    "# Levene-test: test for homogeneity of variances\n",
    "# H0 is that there is homogeneity of variances\n",
    "# p < 0.05: reject H0 --> assume no homogeneity of variances\n",
    "\n",
    "# new separate datasets for males and females\n",
    "male = df_centralities[(df_centralities['gender'] == 'male')]\n",
    "male.reset_index(inplace= True)\n",
    "female = df_centralities[(df_centralities['gender'] == 'female')]\n",
    "female.reset_index(inplace= True)\n",
    "\n",
    "# closeness: test significaant --> no homogeneity of variances\n",
    "print('closeness: ', stats.levene(male['closeness'], female['closeness']))\n",
    "\n",
    "# betweenness: test insignificant --> homogeneity of variances\n",
    "print('betweenness: ', stats.levene(male['betweenness'], female['betweenness']))\n",
    "\n",
    "# degree: test significaant --> no homogeneity of variances\n",
    "print('degree: ',stats.levene(male['degree'], female['degree']))"
   ]
  },
  {
   "cell_type": "code",
   "execution_count": 21,
   "metadata": {},
   "outputs": [
    {
     "name": "stdout",
     "output_type": "stream",
     "text": [
      "closeness 1: (0.9794097542762756, 1.6419001575007641e-12)\n",
      "closeness 2: (0.9860884547233582, 7.965314029829886e-15)\n",
      "betweenness 1: (0.4877440333366394, 0.0)\n",
      "betweenness 2: (0.4387094974517822, 0.0)\n",
      "degree 1: (0.7407894134521484, 1.1775391255414303e-40)\n",
      "degree 2: (0.7384718656539917, 0.0)\n"
     ]
    }
   ],
   "source": [
    "# check for normal distribution\n",
    "# H0 is that the data is normally distributed\n",
    "# p < 0.05: reject H0 --> assume that data not drawn from normal distribution\n",
    "\n",
    "print('closeness 1:',stats.shapiro(female['closeness']))          \n",
    "print('closeness 2:',stats.shapiro(male['closeness']))            \n",
    "\n",
    "print('betweenness 1:',stats.shapiro(female['betweenness']))           \n",
    "print('betweenness 2:',stats.shapiro(male['betweenness']))          \n",
    "\n",
    "print('degree 1:',stats.shapiro(female['degree']))             \n",
    "print('degree 2:',stats.shapiro(male['degree']))               \n",
    "\n",
    "# reject H0 for all samples"
   ]
  },
  {
   "cell_type": "code",
   "execution_count": 22,
   "metadata": {},
   "outputs": [
    {
     "name": "stdout",
     "output_type": "stream",
     "text": [
      "closeness: MannwhitneyuResult(statistic=1510617.5, pvalue=0.017851542287967474)\n",
      "betweenness: MannwhitneyuResult(statistic=1545145.0, pvalue=0.15357243834218948)\n",
      "degree: MannwhitneyuResult(statistic=1518621.0, pvalue=0.02874741847105109)\n"
     ]
    }
   ],
   "source": [
    "# normality criterion violated --> non-parametric tests --> e.g. Mann-Whitney-U-Test\n",
    "\n",
    "print('closeness:',stats.mannwhitneyu(female['closeness'], male['closeness']))        # pvalue=0.017851542287967474\n",
    "print('betweenness:',stats.mannwhitneyu(female['betweenness'], male['betweenness']))  # pvalue=0.15357243834218948\n",
    "print('degree:',stats.mannwhitneyu(female['degree'], male['degree']))                 # pvalue=0.02874741847105109"
   ]
  },
  {
   "cell_type": "markdown",
   "metadata": {},
   "source": [
    "### Analysis of Tie Strength"
   ]
  },
  {
   "cell_type": "markdown",
   "metadata": {},
   "source": [
    "1) Consider all nodes"
   ]
  },
  {
   "cell_type": "code",
   "execution_count": 23,
   "metadata": {},
   "outputs": [],
   "source": [
    "# new dataframe with the average number of cooperations per tie per node (=average tie weight per node)\n",
    "df_coop = df_writers_producers.groupby('writer')['coop'].mean().to_frame(name='avg_coop').reset_index()\n",
    "df_coop = pd.merge(df_coop, df_name_info[['nconst','gender']], how='left', left_on='writer', right_on='nconst')"
   ]
  },
  {
   "cell_type": "code",
   "execution_count": 25,
   "metadata": {},
   "outputs": [
    {
     "data": {
      "text/html": [
       "<div>\n",
       "<style scoped>\n",
       "    .dataframe tbody tr th:only-of-type {\n",
       "        vertical-align: middle;\n",
       "    }\n",
       "\n",
       "    .dataframe tbody tr th {\n",
       "        vertical-align: top;\n",
       "    }\n",
       "\n",
       "    .dataframe thead th {\n",
       "        text-align: right;\n",
       "    }\n",
       "</style>\n",
       "<table border=\"1\" class=\"dataframe\">\n",
       "  <thead>\n",
       "    <tr style=\"text-align: right;\">\n",
       "      <th></th>\n",
       "      <th>count</th>\n",
       "      <th>mean</th>\n",
       "      <th>std</th>\n",
       "      <th>min</th>\n",
       "      <th>25%</th>\n",
       "      <th>50%</th>\n",
       "      <th>75%</th>\n",
       "      <th>max</th>\n",
       "    </tr>\n",
       "    <tr>\n",
       "      <th>gender</th>\n",
       "      <th></th>\n",
       "      <th></th>\n",
       "      <th></th>\n",
       "      <th></th>\n",
       "      <th></th>\n",
       "      <th></th>\n",
       "      <th></th>\n",
       "      <th></th>\n",
       "    </tr>\n",
       "  </thead>\n",
       "  <tbody>\n",
       "    <tr>\n",
       "      <th>female</th>\n",
       "      <td>1580.0</td>\n",
       "      <td>1.159877</td>\n",
       "      <td>0.413461</td>\n",
       "      <td>1.0</td>\n",
       "      <td>1.0</td>\n",
       "      <td>1.0</td>\n",
       "      <td>1.00</td>\n",
       "      <td>7.0</td>\n",
       "    </tr>\n",
       "    <tr>\n",
       "      <th>male</th>\n",
       "      <td>3080.0</td>\n",
       "      <td>1.217528</td>\n",
       "      <td>0.445612</td>\n",
       "      <td>1.0</td>\n",
       "      <td>1.0</td>\n",
       "      <td>1.0</td>\n",
       "      <td>1.25</td>\n",
       "      <td>4.5</td>\n",
       "    </tr>\n",
       "  </tbody>\n",
       "</table>\n",
       "</div>"
      ],
      "text/plain": [
       "         count      mean       std  min  25%  50%   75%  max\n",
       "gender                                                      \n",
       "female  1580.0  1.159877  0.413461  1.0  1.0  1.0  1.00  7.0\n",
       "male    3080.0  1.217528  0.445612  1.0  1.0  1.0  1.25  4.5"
      ]
     },
     "execution_count": 25,
     "metadata": {},
     "output_type": "execute_result"
    }
   ],
   "source": [
    "# describe\n",
    "df_coop.groupby(\"gender\")['avg_coop'].describe()\n",
    "# mean female: 1.16\n",
    "# mean male: 1.22"
   ]
  },
  {
   "cell_type": "code",
   "execution_count": 26,
   "metadata": {},
   "outputs": [],
   "source": [
    "# new separate dataframes for male/female\n",
    "male = df_coop[(df_coop['gender'] == 'male')]\n",
    "male.reset_index(inplace= True)\n",
    "\n",
    "female = df_coop[(df_coop['gender'] == 'female')]\n",
    "female.reset_index(inplace= True)"
   ]
  },
  {
   "cell_type": "code",
   "execution_count": 27,
   "metadata": {},
   "outputs": [
    {
     "data": {
      "text/plain": [
       "LeveneResult(statistic=18.34411016301136, pvalue=1.8810201886300806e-05)"
      ]
     },
     "execution_count": 27,
     "metadata": {},
     "output_type": "execute_result"
    }
   ],
   "source": [
    "# Levene test for homogeneity of variances\n",
    "stats.levene(male['avg_coop'], female['avg_coop'])\n",
    "\n",
    "# test is significant --> no homogeneity of variances"
   ]
  },
  {
   "cell_type": "code",
   "execution_count": 29,
   "metadata": {},
   "outputs": [
    {
     "name": "stdout",
     "output_type": "stream",
     "text": [
      "1 (0.4374329447746277, 0.0)\n",
      "2 (0.5632578730583191, 0.0)\n"
     ]
    }
   ],
   "source": [
    "# Shapiro test for normal distribution\n",
    "\n",
    "print(1,stats.shapiro(female['avg_coop']))      \n",
    "print(2,stats.shapiro(male['avg_coop']))        \n",
    "\n",
    "# both significant --> no normal distribution"
   ]
  },
  {
   "cell_type": "code",
   "execution_count": 30,
   "metadata": {},
   "outputs": [
    {
     "data": {
      "text/plain": [
       "MannwhitneyuResult(statistic=2254026.0, pvalue=1.1646186928286652e-07)"
      ]
     },
     "execution_count": 30,
     "metadata": {},
     "output_type": "execute_result"
    }
   ],
   "source": [
    "# Mann Whitney U test\n",
    "stats.mannwhitneyu(female['avg_coop'], male['avg_coop'])    #pvalue=1.1646186928286652e-07"
   ]
  },
  {
   "cell_type": "markdown",
   "metadata": {},
   "source": [
    "2) Without nodes that have only one tie that has weight 1"
   ]
  },
  {
   "cell_type": "code",
   "execution_count": 31,
   "metadata": {},
   "outputs": [],
   "source": [
    "# find writers who only have one collaboration entry\n",
    "one_occ = []\n",
    "numOfOccWriter = df_writers_producers.writer.value_counts().to_frame(name='num').reset_index()\n",
    "numOfOccWriter = numOfOccWriter.rename(columns={\"index\": \"nconst\"})\n",
    "\n",
    "for i in numOfOccWriter.index:\n",
    "    if numOfOccWriter.loc[i,'num'] == 1:\n",
    "        one_occ.append(numOfOccWriter.loc[i,'nconst'])\n",
    "        \n",
    "# find writers who only have one collaboration entry that is strength 1:\n",
    "one_occ_strength_1 = []\n",
    "for i in df_writers_producers.index:\n",
    "    if df_writers_producers.loc[i,'writer'] in one_occ:\n",
    "        if df_writers_producers.loc[i,'coop'] == 1:\n",
    "            one_occ_strength_1.append(df_writers_producers.loc[i,'writer'])"
   ]
  },
  {
   "cell_type": "code",
   "execution_count": 32,
   "metadata": {},
   "outputs": [
    {
     "data": {
      "text/html": [
       "<div>\n",
       "<style scoped>\n",
       "    .dataframe tbody tr th:only-of-type {\n",
       "        vertical-align: middle;\n",
       "    }\n",
       "\n",
       "    .dataframe tbody tr th {\n",
       "        vertical-align: top;\n",
       "    }\n",
       "\n",
       "    .dataframe thead th {\n",
       "        text-align: right;\n",
       "    }\n",
       "</style>\n",
       "<table border=\"1\" class=\"dataframe\">\n",
       "  <thead>\n",
       "    <tr style=\"text-align: right;\">\n",
       "      <th></th>\n",
       "      <th>count</th>\n",
       "      <th>mean</th>\n",
       "      <th>std</th>\n",
       "      <th>min</th>\n",
       "      <th>25%</th>\n",
       "      <th>50%</th>\n",
       "      <th>75%</th>\n",
       "      <th>max</th>\n",
       "    </tr>\n",
       "    <tr>\n",
       "      <th>gender</th>\n",
       "      <th></th>\n",
       "      <th></th>\n",
       "      <th></th>\n",
       "      <th></th>\n",
       "      <th></th>\n",
       "      <th></th>\n",
       "      <th></th>\n",
       "      <th></th>\n",
       "    </tr>\n",
       "  </thead>\n",
       "  <tbody>\n",
       "    <tr>\n",
       "      <th>female</th>\n",
       "      <td>986.0</td>\n",
       "      <td>1.256192</td>\n",
       "      <td>0.499340</td>\n",
       "      <td>1.0</td>\n",
       "      <td>1.0</td>\n",
       "      <td>1.0</td>\n",
       "      <td>1.4</td>\n",
       "      <td>7.0</td>\n",
       "    </tr>\n",
       "    <tr>\n",
       "      <th>male</th>\n",
       "      <td>1993.0</td>\n",
       "      <td>1.336169</td>\n",
       "      <td>0.516743</td>\n",
       "      <td>1.0</td>\n",
       "      <td>1.0</td>\n",
       "      <td>1.0</td>\n",
       "      <td>1.5</td>\n",
       "      <td>4.5</td>\n",
       "    </tr>\n",
       "  </tbody>\n",
       "</table>\n",
       "</div>"
      ],
      "text/plain": [
       "         count      mean       std  min  25%  50%  75%  max\n",
       "gender                                                     \n",
       "female   986.0  1.256192  0.499340  1.0  1.0  1.0  1.4  7.0\n",
       "male    1993.0  1.336169  0.516743  1.0  1.0  1.0  1.5  4.5"
      ]
     },
     "execution_count": 32,
     "metadata": {},
     "output_type": "execute_result"
    }
   ],
   "source": [
    "# new dataframe with average number of collaborations per tie\n",
    "df_coop2 = df_coop[~df_coop['writer'].isin(one_occ_strength_1)]\n",
    "df_coop2.groupby('gender')['avg_coop'].describe()\n",
    "\n",
    "# mean female: 1.26\n",
    "# mean male: 1.34"
   ]
  },
  {
   "cell_type": "code",
   "execution_count": 33,
   "metadata": {},
   "outputs": [],
   "source": [
    "# new separate dataframes for male/female\n",
    "male = df_coop2[(df_coop2['gender'] == 'male')]\n",
    "male.reset_index(inplace= True)\n",
    "\n",
    "female = df_coop2[(df_coop2['gender'] == 'female')]\n",
    "female.reset_index(inplace= True)"
   ]
  },
  {
   "cell_type": "code",
   "execution_count": 34,
   "metadata": {},
   "outputs": [
    {
     "data": {
      "text/plain": [
       "LeveneResult(statistic=16.15547830469976, pvalue=5.979615540492086e-05)"
      ]
     },
     "execution_count": 34,
     "metadata": {},
     "output_type": "execute_result"
    }
   ],
   "source": [
    "# Levene test for homogeneity of variances\n",
    "stats.levene(male['avg_coop'], female['avg_coop'])\n",
    "\n",
    "# test is significant --> no homogeneity of variances"
   ]
  },
  {
   "cell_type": "code",
   "execution_count": 35,
   "metadata": {},
   "outputs": [
    {
     "name": "stdout",
     "output_type": "stream",
     "text": [
      "1 (0.5608026385307312, 3.783505853677006e-44)\n",
      "2 (0.7001656889915466, 0.0)\n"
     ]
    }
   ],
   "source": [
    "# Shapiro test for normal distribution\n",
    "\n",
    "print(1,stats.shapiro(female['avg_coop']))       \n",
    "print(2,stats.shapiro(male['avg_coop']))\n",
    "\n",
    "# tests both significant --> no normal distribution assumed"
   ]
  },
  {
   "cell_type": "code",
   "execution_count": 36,
   "metadata": {},
   "outputs": [
    {
     "data": {
      "text/plain": [
       "MannwhitneyuResult(statistic=880973.0, pvalue=2.2354932432277508e-07)"
      ]
     },
     "execution_count": 36,
     "metadata": {},
     "output_type": "execute_result"
    }
   ],
   "source": [
    "# Mann Whitney U test\n",
    "stats.mannwhitneyu(female['avg_coop'], male['avg_coop'])    #pvalue=2.2354932432277508e-07"
   ]
  },
  {
   "cell_type": "markdown",
   "metadata": {},
   "source": [
    "### Analysis of Gender Homophily"
   ]
  },
  {
   "cell_type": "code",
   "execution_count": 18,
   "metadata": {},
   "outputs": [
    {
     "data": {
      "text/html": [
       "<div>\n",
       "<style scoped>\n",
       "    .dataframe tbody tr th:only-of-type {\n",
       "        vertical-align: middle;\n",
       "    }\n",
       "\n",
       "    .dataframe tbody tr th {\n",
       "        vertical-align: top;\n",
       "    }\n",
       "\n",
       "    .dataframe thead th {\n",
       "        text-align: right;\n",
       "    }\n",
       "</style>\n",
       "<table border=\"1\" class=\"dataframe\">\n",
       "  <thead>\n",
       "    <tr style=\"text-align: right;\">\n",
       "      <th>gender_producer</th>\n",
       "      <th>female</th>\n",
       "      <th>male</th>\n",
       "    </tr>\n",
       "    <tr>\n",
       "      <th>gender_writer</th>\n",
       "      <th></th>\n",
       "      <th></th>\n",
       "    </tr>\n",
       "  </thead>\n",
       "  <tbody>\n",
       "    <tr>\n",
       "      <th>female</th>\n",
       "      <td>1619</td>\n",
       "      <td>2681</td>\n",
       "    </tr>\n",
       "    <tr>\n",
       "      <th>male</th>\n",
       "      <td>3064</td>\n",
       "      <td>5940</td>\n",
       "    </tr>\n",
       "  </tbody>\n",
       "</table>\n",
       "</div>"
      ],
      "text/plain": [
       "gender_producer  female  male\n",
       "gender_writer                \n",
       "female             1619  2681\n",
       "male               3064  5940"
      ]
     },
     "execution_count": 18,
     "metadata": {},
     "output_type": "execute_result"
    }
   ],
   "source": [
    "# describe with contingency tables\n",
    "\n",
    "# producers in columns, writers in rows\n",
    "# producers as independent variable since they do the hiring\n",
    "pd.crosstab(df_writers_producers['gender_writer'],df_writers_producers['gender_producer'])"
   ]
  },
  {
   "cell_type": "code",
   "execution_count": 19,
   "metadata": {},
   "outputs": [
    {
     "data": {
      "text/html": [
       "<div>\n",
       "<style scoped>\n",
       "    .dataframe tbody tr th:only-of-type {\n",
       "        vertical-align: middle;\n",
       "    }\n",
       "\n",
       "    .dataframe tbody tr th {\n",
       "        vertical-align: top;\n",
       "    }\n",
       "\n",
       "    .dataframe thead th {\n",
       "        text-align: right;\n",
       "    }\n",
       "</style>\n",
       "<table border=\"1\" class=\"dataframe\">\n",
       "  <thead>\n",
       "    <tr style=\"text-align: right;\">\n",
       "      <th>gender_producer</th>\n",
       "      <th>female</th>\n",
       "      <th>male</th>\n",
       "      <th>All</th>\n",
       "    </tr>\n",
       "    <tr>\n",
       "      <th>gender_writer</th>\n",
       "      <th></th>\n",
       "      <th></th>\n",
       "      <th></th>\n",
       "    </tr>\n",
       "  </thead>\n",
       "  <tbody>\n",
       "    <tr>\n",
       "      <th>female</th>\n",
       "      <td>0.345719</td>\n",
       "      <td>0.310985</td>\n",
       "      <td>0.323211</td>\n",
       "    </tr>\n",
       "    <tr>\n",
       "      <th>male</th>\n",
       "      <td>0.654281</td>\n",
       "      <td>0.689015</td>\n",
       "      <td>0.676789</td>\n",
       "    </tr>\n",
       "  </tbody>\n",
       "</table>\n",
       "</div>"
      ],
      "text/plain": [
       "gender_producer    female      male       All\n",
       "gender_writer                                \n",
       "female           0.345719  0.310985  0.323211\n",
       "male             0.654281  0.689015  0.676789"
      ]
     },
     "execution_count": 19,
     "metadata": {},
     "output_type": "execute_result"
    }
   ],
   "source": [
    "pd.crosstab(df_writers_producers['gender_writer'],df_writers_producers['gender_producer'],normalize='columns',margins=True)"
   ]
  },
  {
   "cell_type": "code",
   "execution_count": 24,
   "metadata": {},
   "outputs": [
    {
     "name": "stdout",
     "output_type": "stream",
     "text": [
      "1 1580\n",
      "2 3080\n",
      "3 4660\n",
      "4 0.33905579399141633\n",
      "5 0.6609442060085837\n"
     ]
    }
   ],
   "source": [
    "# describe gender composition of writers\n",
    "\n",
    "# writer list\n",
    "writers = list(writers)\n",
    "\n",
    "# number of female writers: 1580\n",
    "n_w_f = 0\n",
    "for name in writers:\n",
    "    if dict_gender[name] == \"female\":\n",
    "        n_w_f = n_w_f+1\n",
    "print(1, n_w_f)\n",
    "\n",
    "# number of male writers: 3080\n",
    "n_w_m = 0\n",
    "for name in writers:\n",
    "    if dict_gender[name] == \"male\":\n",
    "        n_w_m = n_w_m+1\n",
    "print(2, n_w_m)\n",
    "        \n",
    "# total number of writers: 4660\n",
    "n_w = len(writers)\n",
    "print(3, n_w)\n",
    "\n",
    "# percentage of female writers: 0.33905579399141633\n",
    "perc_w_f = n_w_f / n_w\n",
    "print(4, perc_w_f)\n",
    "\n",
    "# percentage of male writers: 0.6609442060085837\n",
    "perc_w_m = n_w_m / n_w\n",
    "print(5, perc_w_m)"
   ]
  },
  {
   "cell_type": "code",
   "execution_count": 26,
   "metadata": {},
   "outputs": [
    {
     "name": "stdout",
     "output_type": "stream",
     "text": [
      "1 1.8252536640360766\n",
      "2 1.7196921103271328\n",
      "3 3.4543404735062007\n",
      "4 3.8101347017318794\n"
     ]
    }
   ],
   "source": [
    "# average number of collaborations with male / female producers per writer\n",
    "\n",
    "# 1) dataframe with genders of all writers worked with per producer (separated by comma):\n",
    "df_hp = df_writers_producers.groupby('producer')['gender_writer'].apply(lambda x: ','.join(x)).to_frame(name='writers').reset_index()\n",
    "\n",
    "# 2) variables for number of male/female writers worked\n",
    "df_hp['coops_male'] = 0\n",
    "df_hp['coops_female'] = 0\n",
    "\n",
    "for i in df_hp.index:\n",
    "    text = df_hp.loc[i,'writers']\n",
    "    alls=len(re.findall(r',', text))+1\n",
    "    females = len(re.findall(r'female',text))\n",
    "    males=alls-females\n",
    "    df_hp.loc[i,'coops_male'] = males\n",
    "    df_hp.loc[i,'coops_female'] = females\n",
    "\n",
    "# 3) merge gender of producer\n",
    "df_hp = pd.merge(df_hp, df_name_info[['nconst','gender']], how='left', left_on='producer', right_on='nconst')\n",
    "\n",
    "# drop nconst and rename gender\n",
    "del df_hp['nconst']\n",
    "df_hp = df_hp.rename(columns={\"gender\": \"gender_producer\"})\n",
    "    \n",
    "# 4) average number of ties (1) female / (2) male proucers have to female writers: \n",
    "ties_f = df_hp.groupby('gender_producer')['coops_female'].mean()\n",
    "s_f = ties_f['female']\n",
    "print(1, s_f) # 1.8252536640360766\n",
    "d_m = ties_f['male']        \n",
    "print(2, d_m) # 1.7196921103271328\n",
    "\n",
    "# 5) average number of ties (1) female / (2) male producers have to male writers\n",
    "ties_m = df_hp.groupby('gender_producer')['coops_male'].mean()\n",
    "d_f = ties_m['female']      \n",
    "print(3, d_f) # 3.4543404735062007\n",
    "s_m = ties_m['male']        \n",
    "print(4, s_m) # 3.8101347017318794"
   ]
  },
  {
   "cell_type": "code",
   "execution_count": 29,
   "metadata": {},
   "outputs": [
    {
     "name": "stdout",
     "output_type": "stream",
     "text": [
      "1 0.3457185564808883\n",
      "2 0.6890151954529637\n",
      "3 0.010080673117188082\n",
      "4 0.08279165241190564\n"
     ]
    }
   ],
   "source": [
    "# homophily indices\n",
    "\n",
    "# 1) homophily index female\n",
    "H_f = s_f / (s_f + d_f)\n",
    "print(1, H_f)\n",
    "# 0.3457185564808883\n",
    "\n",
    "# 2) homophily index male\n",
    "H_m = s_m / (s_m + d_m)\n",
    "print(2, H_m)\n",
    "# 0.6890151954529637\n",
    "\n",
    "# 3) adjust for population sizes: inbreeding homophily index\n",
    "IH_f = (H_f - perc_w_f) / (1-perc_w_f)\n",
    "print(3,IH_f)      # 0.010080673117188082\n",
    "IH_m = (H_m - perc_w_m) / (1-perc_w_m)\n",
    "print(4,IH_m)      # 0.08279165241190564"
   ]
  }
 ],
 "metadata": {
  "kernelspec": {
   "display_name": "Python 3",
   "language": "python",
   "name": "python3"
  },
  "language_info": {
   "codemirror_mode": {
    "name": "ipython",
    "version": 3
   },
   "file_extension": ".py",
   "mimetype": "text/x-python",
   "name": "python",
   "nbconvert_exporter": "python",
   "pygments_lexer": "ipython3",
   "version": "3.7.6"
  }
 },
 "nbformat": 4,
 "nbformat_minor": 4
}
